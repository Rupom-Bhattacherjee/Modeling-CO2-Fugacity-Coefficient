{
  "nbformat": 4,
  "nbformat_minor": 0,
  "metadata": {
    "colab": {
      "name": "Untitled",
      "provenance": [],
      "collapsed_sections": []
    },
    "kernelspec": {
      "name": "python3",
      "display_name": "Python 3"
    },
    "language_info": {
      "name": "python"
    }
  },
  "cells": [
    {
      "cell_type": "code",
      "execution_count": 1,
      "metadata": {
        "id": "ovwq2uyoGVGD"
      },
      "outputs": [],
      "source": [
        "import pandas as pd\n",
        "import numpy as np\n",
        "import matplotlib.pyplot as plt"
      ]
    },
    {
      "cell_type": "code",
      "source": [
        "data = pd.read_excel(\"/content/CO2_fugacity_coefficient_data_duan_sun.xlsx\")\n",
        "data.head()"
      ],
      "metadata": {
        "colab": {
          "base_uri": "https://localhost:8080/",
          "height": 206
        },
        "id": "A4-PrHr6GajV",
        "outputId": "56b05549-141a-4153-f5e3-67fc227b6ab9"
      },
      "execution_count": 2,
      "outputs": [
        {
          "output_type": "execute_result",
          "data": {
            "text/plain": [
              "   T, C  P, bar  CO2_Fugacity_coefficient\n",
              "0     0       1                    0.9931\n",
              "1     0      20                    0.8648\n",
              "2     0      50                    0.5695\n",
              "3     0     100                    0.3152\n",
              "4     0     200                    0.1914"
            ],
            "text/html": [
              "\n",
              "  <div id=\"df-89196c6b-0dc8-4b41-a3fe-1d22dd0e5543\">\n",
              "    <div class=\"colab-df-container\">\n",
              "      <div>\n",
              "<style scoped>\n",
              "    .dataframe tbody tr th:only-of-type {\n",
              "        vertical-align: middle;\n",
              "    }\n",
              "\n",
              "    .dataframe tbody tr th {\n",
              "        vertical-align: top;\n",
              "    }\n",
              "\n",
              "    .dataframe thead th {\n",
              "        text-align: right;\n",
              "    }\n",
              "</style>\n",
              "<table border=\"1\" class=\"dataframe\">\n",
              "  <thead>\n",
              "    <tr style=\"text-align: right;\">\n",
              "      <th></th>\n",
              "      <th>T, C</th>\n",
              "      <th>P, bar</th>\n",
              "      <th>CO2_Fugacity_coefficient</th>\n",
              "    </tr>\n",
              "  </thead>\n",
              "  <tbody>\n",
              "    <tr>\n",
              "      <th>0</th>\n",
              "      <td>0</td>\n",
              "      <td>1</td>\n",
              "      <td>0.9931</td>\n",
              "    </tr>\n",
              "    <tr>\n",
              "      <th>1</th>\n",
              "      <td>0</td>\n",
              "      <td>20</td>\n",
              "      <td>0.8648</td>\n",
              "    </tr>\n",
              "    <tr>\n",
              "      <th>2</th>\n",
              "      <td>0</td>\n",
              "      <td>50</td>\n",
              "      <td>0.5695</td>\n",
              "    </tr>\n",
              "    <tr>\n",
              "      <th>3</th>\n",
              "      <td>0</td>\n",
              "      <td>100</td>\n",
              "      <td>0.3152</td>\n",
              "    </tr>\n",
              "    <tr>\n",
              "      <th>4</th>\n",
              "      <td>0</td>\n",
              "      <td>200</td>\n",
              "      <td>0.1914</td>\n",
              "    </tr>\n",
              "  </tbody>\n",
              "</table>\n",
              "</div>\n",
              "      <button class=\"colab-df-convert\" onclick=\"convertToInteractive('df-89196c6b-0dc8-4b41-a3fe-1d22dd0e5543')\"\n",
              "              title=\"Convert this dataframe to an interactive table.\"\n",
              "              style=\"display:none;\">\n",
              "        \n",
              "  <svg xmlns=\"http://www.w3.org/2000/svg\" height=\"24px\"viewBox=\"0 0 24 24\"\n",
              "       width=\"24px\">\n",
              "    <path d=\"M0 0h24v24H0V0z\" fill=\"none\"/>\n",
              "    <path d=\"M18.56 5.44l.94 2.06.94-2.06 2.06-.94-2.06-.94-.94-2.06-.94 2.06-2.06.94zm-11 1L8.5 8.5l.94-2.06 2.06-.94-2.06-.94L8.5 2.5l-.94 2.06-2.06.94zm10 10l.94 2.06.94-2.06 2.06-.94-2.06-.94-.94-2.06-.94 2.06-2.06.94z\"/><path d=\"M17.41 7.96l-1.37-1.37c-.4-.4-.92-.59-1.43-.59-.52 0-1.04.2-1.43.59L10.3 9.45l-7.72 7.72c-.78.78-.78 2.05 0 2.83L4 21.41c.39.39.9.59 1.41.59.51 0 1.02-.2 1.41-.59l7.78-7.78 2.81-2.81c.8-.78.8-2.07 0-2.86zM5.41 20L4 18.59l7.72-7.72 1.47 1.35L5.41 20z\"/>\n",
              "  </svg>\n",
              "      </button>\n",
              "      \n",
              "  <style>\n",
              "    .colab-df-container {\n",
              "      display:flex;\n",
              "      flex-wrap:wrap;\n",
              "      gap: 12px;\n",
              "    }\n",
              "\n",
              "    .colab-df-convert {\n",
              "      background-color: #E8F0FE;\n",
              "      border: none;\n",
              "      border-radius: 50%;\n",
              "      cursor: pointer;\n",
              "      display: none;\n",
              "      fill: #1967D2;\n",
              "      height: 32px;\n",
              "      padding: 0 0 0 0;\n",
              "      width: 32px;\n",
              "    }\n",
              "\n",
              "    .colab-df-convert:hover {\n",
              "      background-color: #E2EBFA;\n",
              "      box-shadow: 0px 1px 2px rgba(60, 64, 67, 0.3), 0px 1px 3px 1px rgba(60, 64, 67, 0.15);\n",
              "      fill: #174EA6;\n",
              "    }\n",
              "\n",
              "    [theme=dark] .colab-df-convert {\n",
              "      background-color: #3B4455;\n",
              "      fill: #D2E3FC;\n",
              "    }\n",
              "\n",
              "    [theme=dark] .colab-df-convert:hover {\n",
              "      background-color: #434B5C;\n",
              "      box-shadow: 0px 1px 3px 1px rgba(0, 0, 0, 0.15);\n",
              "      filter: drop-shadow(0px 1px 2px rgba(0, 0, 0, 0.3));\n",
              "      fill: #FFFFFF;\n",
              "    }\n",
              "  </style>\n",
              "\n",
              "      <script>\n",
              "        const buttonEl =\n",
              "          document.querySelector('#df-89196c6b-0dc8-4b41-a3fe-1d22dd0e5543 button.colab-df-convert');\n",
              "        buttonEl.style.display =\n",
              "          google.colab.kernel.accessAllowed ? 'block' : 'none';\n",
              "\n",
              "        async function convertToInteractive(key) {\n",
              "          const element = document.querySelector('#df-89196c6b-0dc8-4b41-a3fe-1d22dd0e5543');\n",
              "          const dataTable =\n",
              "            await google.colab.kernel.invokeFunction('convertToInteractive',\n",
              "                                                     [key], {});\n",
              "          if (!dataTable) return;\n",
              "\n",
              "          const docLinkHtml = 'Like what you see? Visit the ' +\n",
              "            '<a target=\"_blank\" href=https://colab.research.google.com/notebooks/data_table.ipynb>data table notebook</a>'\n",
              "            + ' to learn more about interactive tables.';\n",
              "          element.innerHTML = '';\n",
              "          dataTable['output_type'] = 'display_data';\n",
              "          await google.colab.output.renderOutput(dataTable, element);\n",
              "          const docLink = document.createElement('div');\n",
              "          docLink.innerHTML = docLinkHtml;\n",
              "          element.appendChild(docLink);\n",
              "        }\n",
              "      </script>\n",
              "    </div>\n",
              "  </div>\n",
              "  "
            ]
          },
          "metadata": {},
          "execution_count": 2
        }
      ]
    },
    {
      "cell_type": "code",
      "source": [
        "X = data.iloc[:,0:2]\n",
        "y = data.iloc[:,2]\n",
        "y = y.values.reshape(-1,1)\n",
        "print(\"the shape of X is {} and the shape of the target y is {}\".format(X.shape, y.shape))"
      ],
      "metadata": {
        "id": "KFY0oFnQG87O",
        "colab": {
          "base_uri": "https://localhost:8080/"
        },
        "outputId": "ef03a1a4-aabe-467b-e2b5-b3ff3bd1139a"
      },
      "execution_count": 3,
      "outputs": [
        {
          "output_type": "stream",
          "name": "stdout",
          "text": [
            "the shape of X is (430, 2) and the shape of the target y is (430, 1)\n"
          ]
        }
      ]
    },
    {
      "cell_type": "code",
      "source": [
        "from sklearn.model_selection import train_test_split\n",
        "X_train, X_test, y_train, y_test = train_test_split(X, y, test_size=0.2, random_state=0)"
      ],
      "metadata": {
        "id": "Hup-ztz3GtXz"
      },
      "execution_count": 4,
      "outputs": []
    },
    {
      "cell_type": "code",
      "source": [
        "type(np.array(X_test))"
      ],
      "metadata": {
        "colab": {
          "base_uri": "https://localhost:8080/"
        },
        "id": "Gm_M0HqVsAci",
        "outputId": "52dba6ac-e237-407a-cc94-1ed2795385b5"
      },
      "execution_count": 5,
      "outputs": [
        {
          "output_type": "execute_result",
          "data": {
            "text/plain": [
              "numpy.ndarray"
            ]
          },
          "metadata": {},
          "execution_count": 5
        }
      ]
    },
    {
      "cell_type": "code",
      "source": [
        "from sklearn.preprocessing import StandardScaler\n",
        "sc_X = StandardScaler()\n",
        "sc_y = StandardScaler()\n",
        "X_train = sc_X.fit_transform(X_train)\n",
        "y_train = sc_y.fit_transform(y_train)"
      ],
      "metadata": {
        "id": "EeERd3RbIeUf"
      },
      "execution_count": 6,
      "outputs": []
    },
    {
      "cell_type": "code",
      "source": [
        "from sklearn import svm\n",
        "regressor = svm.SVR(kernel='linear')\n",
        "regressor.fit(X_train,y_train.ravel())"
      ],
      "metadata": {
        "colab": {
          "base_uri": "https://localhost:8080/"
        },
        "id": "2QT4NDKcJsxD",
        "outputId": "71a427d6-c35c-48c1-e85d-26ff2eee687c"
      },
      "execution_count": 7,
      "outputs": [
        {
          "output_type": "execute_result",
          "data": {
            "text/plain": [
              "SVR(kernel='linear')"
            ]
          },
          "metadata": {},
          "execution_count": 7
        }
      ]
    },
    {
      "cell_type": "code",
      "source": [
        "regressor1 = svm.SVR(kernel='poly')\n",
        "regressor1.fit(X_train,y_train)"
      ],
      "metadata": {
        "colab": {
          "base_uri": "https://localhost:8080/"
        },
        "id": "GFSiENOcRari",
        "outputId": "65474421-11ad-40dc-ea6b-5eecf51b5f75"
      },
      "execution_count": 8,
      "outputs": [
        {
          "output_type": "stream",
          "name": "stderr",
          "text": [
            "/usr/local/lib/python3.7/dist-packages/sklearn/utils/validation.py:993: DataConversionWarning: A column-vector y was passed when a 1d array was expected. Please change the shape of y to (n_samples, ), for example using ravel().\n",
            "  y = column_or_1d(y, warn=True)\n"
          ]
        },
        {
          "output_type": "execute_result",
          "data": {
            "text/plain": [
              "SVR(kernel='poly')"
            ]
          },
          "metadata": {},
          "execution_count": 8
        }
      ]
    },
    {
      "cell_type": "code",
      "source": [
        "regressor2 = svm.SVR(kernel='rbf')\n",
        "regressor2.fit(X_train,y_train.ravel())"
      ],
      "metadata": {
        "colab": {
          "base_uri": "https://localhost:8080/"
        },
        "id": "33S3-FVCRdFy",
        "outputId": "fae2713c-fd74-4045-c336-54a827ce7fdd"
      },
      "execution_count": 9,
      "outputs": [
        {
          "output_type": "execute_result",
          "data": {
            "text/plain": [
              "SVR()"
            ]
          },
          "metadata": {},
          "execution_count": 9
        }
      ]
    },
    {
      "cell_type": "code",
      "source": [
        "from sklearn.ensemble import RandomForestRegressor\n",
        "regressor3 = RandomForestRegressor(n_estimators=2, random_state=1)\n",
        "regressor3.fit(X_train, y_train.ravel())"
      ],
      "metadata": {
        "colab": {
          "base_uri": "https://localhost:8080/"
        },
        "id": "EK2H1EVc3_ES",
        "outputId": "f4dfb922-5259-430f-afc1-809542871372"
      },
      "execution_count": 10,
      "outputs": [
        {
          "output_type": "execute_result",
          "data": {
            "text/plain": [
              "RandomForestRegressor(n_estimators=2, random_state=1)"
            ]
          },
          "metadata": {},
          "execution_count": 10
        }
      ]
    },
    {
      "cell_type": "code",
      "source": [
        "from sklearn.tree import DecisionTreeRegressor\n",
        "regressor4 = DecisionTreeRegressor(random_state= 1)\n",
        "regressor4.fit(X_train, y_train)"
      ],
      "metadata": {
        "colab": {
          "base_uri": "https://localhost:8080/"
        },
        "id": "-cSBKf3c55Nw",
        "outputId": "f67fbaab-b291-47b9-ea19-cf8faa99298c"
      },
      "execution_count": 11,
      "outputs": [
        {
          "output_type": "execute_result",
          "data": {
            "text/plain": [
              "DecisionTreeRegressor(random_state=1)"
            ]
          },
          "metadata": {},
          "execution_count": 11
        }
      ]
    },
    {
      "cell_type": "code",
      "source": [
        "yhat = sc_y.inverse_transform(regressor.predict(sc_X.transform(X_test)).reshape(-1,1))\n",
        "yhat1 = sc_y.inverse_transform(regressor1.predict(sc_X.transform(X_test)).reshape(-1,1))\n",
        "yhat2 = sc_y.inverse_transform(regressor2.predict(sc_X.transform(X_test)).reshape(-1,1))\n",
        "yhat3 = sc_y.inverse_transform(regressor3.predict(sc_X.transform(X_test)).reshape(-1,1))\n",
        "yhat4 = sc_y.inverse_transform(regressor4.predict(sc_X.transform(X_test)).reshape(-1,1))"
      ],
      "metadata": {
        "id": "F9XxX69QKDXW"
      },
      "execution_count": 12,
      "outputs": []
    },
    {
      "cell_type": "code",
      "source": [
        "from sklearn.metrics import r2_score\n",
        "print(\"Linear\")\n",
        "print(\"-\"*40)\n",
        "print(\"Mean absolute error: %.2f\" % np.mean(np.absolute(yhat - y_test)))\n",
        "print(\"Residual sum of squares (MSE): %.2f\" % np.mean((yhat - y_test) ** 2))\n",
        "print(\"R2-score: %.2f\" % r2_score(y_test , yhat) )\n",
        "print(\" \")\n",
        "print(\"Polynomial\")\n",
        "print(\"-\"*40)\n",
        "print(\"Mean absolute error: %.2f\" % np.mean(np.absolute(yhat1 - y_test)))\n",
        "print(\"Residual sum of squares (MSE): %.2f\" % np.mean((yhat1 - y_test) ** 2))\n",
        "print(\"R2-score: %.2f\" % r2_score(y_test , yhat1) )\n",
        "print(\" \")\n",
        "print(\"RBF\")\n",
        "print(\"-\"*40)\n",
        "print(\"Mean absolute error: %.2f\" % np.mean(np.absolute(yhat2 - y_test)))\n",
        "print(\"Residual sum of squares (MSE): %.2f\" % np.mean((yhat2 - y_test) ** 2))\n",
        "print(\"R2-score: %.2f\" % r2_score(y_test , yhat2) )\n",
        "print(\" \")\n",
        "print(\"Random Forest\")\n",
        "print(\"-\"*40)\n",
        "print(\"Mean absolute error: %.2f\" % np.mean(np.absolute(yhat3 - y_test)))\n",
        "print(\"Residual sum of squares (MSE): %.2f\" % np.mean((yhat3 - y_test) ** 2))\n",
        "print(\"R2-score: %.2f\" % r2_score(y_test , yhat3) )\n",
        "print(\" \")\n",
        "print(\"Decision Tree Regressor\")\n",
        "print(\"-\"*40)\n",
        "print(\"Mean absolute error: %.2f\" % np.mean(np.absolute(yhat4 - y_test)))\n",
        "print(\"Residual sum of squares (MSE): %.2f\" % np.mean((yhat4 - y_test) ** 2))\n",
        "print(\"R2-score: %.2f\" % r2_score(y_test , yhat4) )"
      ],
      "metadata": {
        "colab": {
          "base_uri": "https://localhost:8080/"
        },
        "id": "ykV8btSsKNMN",
        "outputId": "5014d92d-5d24-466b-c6b7-c0a064f5ed28"
      },
      "execution_count": 13,
      "outputs": [
        {
          "output_type": "stream",
          "name": "stdout",
          "text": [
            "Linear\n",
            "----------------------------------------\n",
            "Mean absolute error: 13.09\n",
            "Residual sum of squares (MSE): 405.44\n",
            "R2-score: 0.11\n",
            " \n",
            "Polynomial\n",
            "----------------------------------------\n",
            "Mean absolute error: 17.34\n",
            "Residual sum of squares (MSE): 455.61\n",
            "R2-score: -0.00\n",
            " \n",
            "RBF\n",
            "----------------------------------------\n",
            "Mean absolute error: 14.82\n",
            "Residual sum of squares (MSE): 267.21\n",
            "R2-score: 0.41\n",
            " \n",
            "Random Forest\n",
            "----------------------------------------\n",
            "Mean absolute error: 1.22\n",
            "Residual sum of squares (MSE): 27.41\n",
            "R2-score: 0.94\n",
            " \n",
            "Decision Tree Regressor\n",
            "----------------------------------------\n",
            "Mean absolute error: 1.78\n",
            "Residual sum of squares (MSE): 88.49\n",
            "R2-score: 0.81\n"
          ]
        }
      ]
    },
    {
      "cell_type": "code",
      "source": [
        "# save all the predictions to csv file for plotting\n",
        "preds = pd.concat([pd.DataFrame(y_test), pd.DataFrame(yhat1), pd.DataFrame(yhat2), pd.DataFrame(yhat3), pd.DataFrame(yhat4)], axis =1)\n",
        "#preds.to_csv('preds.csv')\n",
        "preds\n"
      ],
      "metadata": {
        "colab": {
          "base_uri": "https://localhost:8080/",
          "height": 424
        },
        "id": "M9kWiGtz6p_x",
        "outputId": "fca6e429-016f-48be-e235-90e8620e72b3"
      },
      "execution_count": 17,
      "outputs": [
        {
          "output_type": "execute_result",
          "data": {
            "text/plain": [
              "         0          0          0        0       0\n",
              "0   4.1525  17.592561  14.891605  4.09730  3.9523\n",
              "1   1.0778   2.169754  19.300134  1.08610  1.0887\n",
              "2   0.4828  20.674632  17.753316  0.52945  0.5029\n",
              "3   4.8431  18.176670  20.345768  5.23930  5.2393\n",
              "4   0.1380  19.461323  19.053104  0.14490  0.1332\n",
              "..     ...        ...        ...      ...     ...\n",
              "81  0.8870  24.310430  21.078225  0.78615  0.7839\n",
              "82  7.4372  20.130392   3.518524  6.57680  8.1448\n",
              "83  0.1914  23.570897  22.236056  0.31520  0.3152\n",
              "84  2.3232  32.335646  20.935792  2.32650  2.4456\n",
              "85  1.9779  17.338103  22.015567  1.97460  1.9746\n",
              "\n",
              "[86 rows x 5 columns]"
            ],
            "text/html": [
              "\n",
              "  <div id=\"df-d3494168-2e35-4ba2-9f94-359418f788fd\">\n",
              "    <div class=\"colab-df-container\">\n",
              "      <div>\n",
              "<style scoped>\n",
              "    .dataframe tbody tr th:only-of-type {\n",
              "        vertical-align: middle;\n",
              "    }\n",
              "\n",
              "    .dataframe tbody tr th {\n",
              "        vertical-align: top;\n",
              "    }\n",
              "\n",
              "    .dataframe thead th {\n",
              "        text-align: right;\n",
              "    }\n",
              "</style>\n",
              "<table border=\"1\" class=\"dataframe\">\n",
              "  <thead>\n",
              "    <tr style=\"text-align: right;\">\n",
              "      <th></th>\n",
              "      <th>0</th>\n",
              "      <th>0</th>\n",
              "      <th>0</th>\n",
              "      <th>0</th>\n",
              "      <th>0</th>\n",
              "    </tr>\n",
              "  </thead>\n",
              "  <tbody>\n",
              "    <tr>\n",
              "      <th>0</th>\n",
              "      <td>4.1525</td>\n",
              "      <td>17.592561</td>\n",
              "      <td>14.891605</td>\n",
              "      <td>4.09730</td>\n",
              "      <td>3.9523</td>\n",
              "    </tr>\n",
              "    <tr>\n",
              "      <th>1</th>\n",
              "      <td>1.0778</td>\n",
              "      <td>2.169754</td>\n",
              "      <td>19.300134</td>\n",
              "      <td>1.08610</td>\n",
              "      <td>1.0887</td>\n",
              "    </tr>\n",
              "    <tr>\n",
              "      <th>2</th>\n",
              "      <td>0.4828</td>\n",
              "      <td>20.674632</td>\n",
              "      <td>17.753316</td>\n",
              "      <td>0.52945</td>\n",
              "      <td>0.5029</td>\n",
              "    </tr>\n",
              "    <tr>\n",
              "      <th>3</th>\n",
              "      <td>4.8431</td>\n",
              "      <td>18.176670</td>\n",
              "      <td>20.345768</td>\n",
              "      <td>5.23930</td>\n",
              "      <td>5.2393</td>\n",
              "    </tr>\n",
              "    <tr>\n",
              "      <th>4</th>\n",
              "      <td>0.1380</td>\n",
              "      <td>19.461323</td>\n",
              "      <td>19.053104</td>\n",
              "      <td>0.14490</td>\n",
              "      <td>0.1332</td>\n",
              "    </tr>\n",
              "    <tr>\n",
              "      <th>...</th>\n",
              "      <td>...</td>\n",
              "      <td>...</td>\n",
              "      <td>...</td>\n",
              "      <td>...</td>\n",
              "      <td>...</td>\n",
              "    </tr>\n",
              "    <tr>\n",
              "      <th>81</th>\n",
              "      <td>0.8870</td>\n",
              "      <td>24.310430</td>\n",
              "      <td>21.078225</td>\n",
              "      <td>0.78615</td>\n",
              "      <td>0.7839</td>\n",
              "    </tr>\n",
              "    <tr>\n",
              "      <th>82</th>\n",
              "      <td>7.4372</td>\n",
              "      <td>20.130392</td>\n",
              "      <td>3.518524</td>\n",
              "      <td>6.57680</td>\n",
              "      <td>8.1448</td>\n",
              "    </tr>\n",
              "    <tr>\n",
              "      <th>83</th>\n",
              "      <td>0.1914</td>\n",
              "      <td>23.570897</td>\n",
              "      <td>22.236056</td>\n",
              "      <td>0.31520</td>\n",
              "      <td>0.3152</td>\n",
              "    </tr>\n",
              "    <tr>\n",
              "      <th>84</th>\n",
              "      <td>2.3232</td>\n",
              "      <td>32.335646</td>\n",
              "      <td>20.935792</td>\n",
              "      <td>2.32650</td>\n",
              "      <td>2.4456</td>\n",
              "    </tr>\n",
              "    <tr>\n",
              "      <th>85</th>\n",
              "      <td>1.9779</td>\n",
              "      <td>17.338103</td>\n",
              "      <td>22.015567</td>\n",
              "      <td>1.97460</td>\n",
              "      <td>1.9746</td>\n",
              "    </tr>\n",
              "  </tbody>\n",
              "</table>\n",
              "<p>86 rows × 5 columns</p>\n",
              "</div>\n",
              "      <button class=\"colab-df-convert\" onclick=\"convertToInteractive('df-d3494168-2e35-4ba2-9f94-359418f788fd')\"\n",
              "              title=\"Convert this dataframe to an interactive table.\"\n",
              "              style=\"display:none;\">\n",
              "        \n",
              "  <svg xmlns=\"http://www.w3.org/2000/svg\" height=\"24px\"viewBox=\"0 0 24 24\"\n",
              "       width=\"24px\">\n",
              "    <path d=\"M0 0h24v24H0V0z\" fill=\"none\"/>\n",
              "    <path d=\"M18.56 5.44l.94 2.06.94-2.06 2.06-.94-2.06-.94-.94-2.06-.94 2.06-2.06.94zm-11 1L8.5 8.5l.94-2.06 2.06-.94-2.06-.94L8.5 2.5l-.94 2.06-2.06.94zm10 10l.94 2.06.94-2.06 2.06-.94-2.06-.94-.94-2.06-.94 2.06-2.06.94z\"/><path d=\"M17.41 7.96l-1.37-1.37c-.4-.4-.92-.59-1.43-.59-.52 0-1.04.2-1.43.59L10.3 9.45l-7.72 7.72c-.78.78-.78 2.05 0 2.83L4 21.41c.39.39.9.59 1.41.59.51 0 1.02-.2 1.41-.59l7.78-7.78 2.81-2.81c.8-.78.8-2.07 0-2.86zM5.41 20L4 18.59l7.72-7.72 1.47 1.35L5.41 20z\"/>\n",
              "  </svg>\n",
              "      </button>\n",
              "      \n",
              "  <style>\n",
              "    .colab-df-container {\n",
              "      display:flex;\n",
              "      flex-wrap:wrap;\n",
              "      gap: 12px;\n",
              "    }\n",
              "\n",
              "    .colab-df-convert {\n",
              "      background-color: #E8F0FE;\n",
              "      border: none;\n",
              "      border-radius: 50%;\n",
              "      cursor: pointer;\n",
              "      display: none;\n",
              "      fill: #1967D2;\n",
              "      height: 32px;\n",
              "      padding: 0 0 0 0;\n",
              "      width: 32px;\n",
              "    }\n",
              "\n",
              "    .colab-df-convert:hover {\n",
              "      background-color: #E2EBFA;\n",
              "      box-shadow: 0px 1px 2px rgba(60, 64, 67, 0.3), 0px 1px 3px 1px rgba(60, 64, 67, 0.15);\n",
              "      fill: #174EA6;\n",
              "    }\n",
              "\n",
              "    [theme=dark] .colab-df-convert {\n",
              "      background-color: #3B4455;\n",
              "      fill: #D2E3FC;\n",
              "    }\n",
              "\n",
              "    [theme=dark] .colab-df-convert:hover {\n",
              "      background-color: #434B5C;\n",
              "      box-shadow: 0px 1px 3px 1px rgba(0, 0, 0, 0.15);\n",
              "      filter: drop-shadow(0px 1px 2px rgba(0, 0, 0, 0.3));\n",
              "      fill: #FFFFFF;\n",
              "    }\n",
              "  </style>\n",
              "\n",
              "      <script>\n",
              "        const buttonEl =\n",
              "          document.querySelector('#df-d3494168-2e35-4ba2-9f94-359418f788fd button.colab-df-convert');\n",
              "        buttonEl.style.display =\n",
              "          google.colab.kernel.accessAllowed ? 'block' : 'none';\n",
              "\n",
              "        async function convertToInteractive(key) {\n",
              "          const element = document.querySelector('#df-d3494168-2e35-4ba2-9f94-359418f788fd');\n",
              "          const dataTable =\n",
              "            await google.colab.kernel.invokeFunction('convertToInteractive',\n",
              "                                                     [key], {});\n",
              "          if (!dataTable) return;\n",
              "\n",
              "          const docLinkHtml = 'Like what you see? Visit the ' +\n",
              "            '<a target=\"_blank\" href=https://colab.research.google.com/notebooks/data_table.ipynb>data table notebook</a>'\n",
              "            + ' to learn more about interactive tables.';\n",
              "          element.innerHTML = '';\n",
              "          dataTable['output_type'] = 'display_data';\n",
              "          await google.colab.output.renderOutput(dataTable, element);\n",
              "          const docLink = document.createElement('div');\n",
              "          docLink.innerHTML = docLinkHtml;\n",
              "          element.appendChild(docLink);\n",
              "        }\n",
              "      </script>\n",
              "    </div>\n",
              "  </div>\n",
              "  "
            ]
          },
          "metadata": {},
          "execution_count": 17
        }
      ]
    },
    {
      "cell_type": "code",
      "source": [
        "plt.scatter(y_test, yhat3)\n",
        "plt.xlabel('True Values ')\n",
        "plt.ylabel('Predictions ')\n",
        "plt.axis('scaled')\n",
        "plt.plot(range(6))\n",
        "plt.xlim(-3, 40)\n",
        "plt.ylim(-3, 40)\n",
        "plt.gca().set_aspect('equal', adjustable='box')"
      ],
      "metadata": {
        "colab": {
          "base_uri": "https://localhost:8080/",
          "height": 283
        },
        "id": "3kfZtdkoh8lD",
        "outputId": "dbb5c070-1423-44c9-d997-eef7bcf559f8"
      },
      "execution_count": 18,
      "outputs": [
        {
          "output_type": "display_data",
          "data": {
            "text/plain": [
              "<Figure size 432x288 with 1 Axes>"
            ],
            "image/png": "[encoded data removed]"
          },
          "metadata": {
            "needs_background": "light"
          }
        }
      ]
    }
  ]
}